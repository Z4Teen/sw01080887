{
 "cells": [
  {
   "cell_type": "code",
   "execution_count": 5,
   "id": "445752e4",
   "metadata": {},
   "outputs": [],
   "source": [
    "import pandas as pd"
   ]
  },
  {
   "cell_type": "code",
   "execution_count": 6,
   "id": "0adc1759",
   "metadata": {},
   "outputs": [
    {
     "data": {
      "text/html": [
       "<div>\n",
       "<style scoped>\n",
       "    .dataframe tbody tr th:only-of-type {\n",
       "        vertical-align: middle;\n",
       "    }\n",
       "\n",
       "    .dataframe tbody tr th {\n",
       "        vertical-align: top;\n",
       "    }\n",
       "\n",
       "    .dataframe thead th {\n",
       "        text-align: right;\n",
       "    }\n",
       "</style>\n",
       "<table border=\"1\" class=\"dataframe\">\n",
       "  <thead>\n",
       "    <tr style=\"text-align: right;\">\n",
       "      <th></th>\n",
       "      <th>Review</th>\n",
       "    </tr>\n",
       "  </thead>\n",
       "  <tbody>\n",
       "    <tr>\n",
       "      <th>0</th>\n",
       "      <td>I like this books very much!!! It is VERY INTE...</td>\n",
       "    </tr>\n",
       "    <tr>\n",
       "      <th>1</th>\n",
       "      <td>Do not like this book. so boring 2. Too length...</td>\n",
       "    </tr>\n",
       "  </tbody>\n",
       "</table>\n",
       "</div>"
      ],
      "text/plain": [
       "                                              Review\n",
       "0  I like this books very much!!! It is VERY INTE...\n",
       "1  Do not like this book. so boring 2. Too length..."
      ]
     },
     "execution_count": 6,
     "metadata": {},
     "output_type": "execute_result"
    }
   ],
   "source": [
    "data = pd.read_csv(\"Review.csv\")\n",
    "data\n"
   ]
  },
  {
   "cell_type": "code",
   "execution_count": 7,
   "id": "acb3b495",
   "metadata": {},
   "outputs": [],
   "source": [
    "import string"
   ]
  },
  {
   "cell_type": "code",
   "execution_count": 8,
   "id": "95f0b688",
   "metadata": {},
   "outputs": [
    {
     "data": {
      "text/plain": [
       "'!\"#$%&\\'()*+,-./:;<=>?@[\\\\]^_`{|}~'"
      ]
     },
     "execution_count": 8,
     "metadata": {},
     "output_type": "execute_result"
    }
   ],
   "source": [
    "string.punctuation"
   ]
  },
  {
   "cell_type": "code",
   "execution_count": 46,
   "id": "d218bf45",
   "metadata": {},
   "outputs": [],
   "source": [
    "#Remove the punctuation symbols\n",
    "def remove_punctuation(text):\n",
    "    punctuation_free = ''\n",
    "    for i in text:\n",
    "        if i not in string.punctuation:\n",
    "            punctuation_free += i\n",
    "    return punctuation_free"
   ]
  },
  {
   "cell_type": "code",
   "execution_count": 47,
   "id": "2e6f0ffe",
   "metadata": {},
   "outputs": [
    {
     "data": {
      "text/html": [
       "<div>\n",
       "<style scoped>\n",
       "    .dataframe tbody tr th:only-of-type {\n",
       "        vertical-align: middle;\n",
       "    }\n",
       "\n",
       "    .dataframe tbody tr th {\n",
       "        vertical-align: top;\n",
       "    }\n",
       "\n",
       "    .dataframe thead th {\n",
       "        text-align: right;\n",
       "    }\n",
       "</style>\n",
       "<table border=\"1\" class=\"dataframe\">\n",
       "  <thead>\n",
       "    <tr style=\"text-align: right;\">\n",
       "      <th></th>\n",
       "      <th>Review</th>\n",
       "      <th>clean_punctuation</th>\n",
       "      <th>clean_lower</th>\n",
       "      <th>clean_number</th>\n",
       "      <th>token_data</th>\n",
       "      <th>clean_xstopwords</th>\n",
       "      <th>clean_stemmed</th>\n",
       "      <th>clean_lemmatized1</th>\n",
       "      <th>clean_lemmatized2</th>\n",
       "    </tr>\n",
       "  </thead>\n",
       "  <tbody>\n",
       "    <tr>\n",
       "      <th>0</th>\n",
       "      <td>I like this books very much!!! It is VERY INTE...</td>\n",
       "      <td>I like this books very much It is VERY INTERES...</td>\n",
       "      <td>i like this books very much it is very interes...</td>\n",
       "      <td>i like this books very much it is very interes...</td>\n",
       "      <td>[i, like, this, books, very, much, it, is, ver...</td>\n",
       "      <td>[like, books, much, interesting]</td>\n",
       "      <td>[like, book, much, interest]</td>\n",
       "      <td>[like, book, much, interesting]</td>\n",
       "      <td>[like, book, much, interest]</td>\n",
       "    </tr>\n",
       "    <tr>\n",
       "      <th>1</th>\n",
       "      <td>Do not like this book. so boring 2. Too length...</td>\n",
       "      <td>Do not like this book so boring 2 Too lengthy</td>\n",
       "      <td>do not like this book so boring 2 too lengthy</td>\n",
       "      <td>do not like this book so boring  too lengthy</td>\n",
       "      <td>[do, not, like, this, book, so, boring, too, l...</td>\n",
       "      <td>[like, book, boring, lengthy]</td>\n",
       "      <td>[like, book, bore, lengthi]</td>\n",
       "      <td>[like, book, boring, lengthy]</td>\n",
       "      <td>[like, book, bore, lengthi]</td>\n",
       "    </tr>\n",
       "  </tbody>\n",
       "</table>\n",
       "</div>"
      ],
      "text/plain": [
       "                                              Review  \\\n",
       "0  I like this books very much!!! It is VERY INTE...   \n",
       "1  Do not like this book. so boring 2. Too length...   \n",
       "\n",
       "                                   clean_punctuation  \\\n",
       "0  I like this books very much It is VERY INTERES...   \n",
       "1     Do not like this book so boring 2 Too lengthy    \n",
       "\n",
       "                                         clean_lower  \\\n",
       "0  i like this books very much it is very interes...   \n",
       "1     do not like this book so boring 2 too lengthy    \n",
       "\n",
       "                                        clean_number  \\\n",
       "0  i like this books very much it is very interes...   \n",
       "1      do not like this book so boring  too lengthy    \n",
       "\n",
       "                                          token_data  \\\n",
       "0  [i, like, this, books, very, much, it, is, ver...   \n",
       "1  [do, not, like, this, book, so, boring, too, l...   \n",
       "\n",
       "                   clean_xstopwords                 clean_stemmed  \\\n",
       "0  [like, books, much, interesting]  [like, book, much, interest]   \n",
       "1     [like, book, boring, lengthy]   [like, book, bore, lengthi]   \n",
       "\n",
       "                 clean_lemmatized1             clean_lemmatized2  \n",
       "0  [like, book, much, interesting]  [like, book, much, interest]  \n",
       "1    [like, book, boring, lengthy]   [like, book, bore, lengthi]  "
      ]
     },
     "execution_count": 47,
     "metadata": {},
     "output_type": "execute_result"
    }
   ],
   "source": [
    "data['clean_punctuation']= data['Review'].apply(remove_punctuation)\n",
    "data\n"
   ]
  },
  {
   "cell_type": "code",
   "execution_count": 26,
   "id": "2134e8bb",
   "metadata": {},
   "outputs": [
    {
     "data": {
      "text/html": [
       "<div>\n",
       "<style scoped>\n",
       "    .dataframe tbody tr th:only-of-type {\n",
       "        vertical-align: middle;\n",
       "    }\n",
       "\n",
       "    .dataframe tbody tr th {\n",
       "        vertical-align: top;\n",
       "    }\n",
       "\n",
       "    .dataframe thead th {\n",
       "        text-align: right;\n",
       "    }\n",
       "</style>\n",
       "<table border=\"1\" class=\"dataframe\">\n",
       "  <thead>\n",
       "    <tr style=\"text-align: right;\">\n",
       "      <th></th>\n",
       "      <th>Review</th>\n",
       "      <th>clean_punctuation</th>\n",
       "      <th>clean_lower</th>\n",
       "    </tr>\n",
       "  </thead>\n",
       "  <tbody>\n",
       "    <tr>\n",
       "      <th>0</th>\n",
       "      <td>I like this books very much!!! It is VERY INTE...</td>\n",
       "      <td>I like this books very much It is VERY INTERES...</td>\n",
       "      <td>i like this books very much it is very interes...</td>\n",
       "    </tr>\n",
       "    <tr>\n",
       "      <th>1</th>\n",
       "      <td>Do not like this book. so boring 2. Too length...</td>\n",
       "      <td>Do not like this book so boring 2 Too lengthy</td>\n",
       "      <td>do not like this book so boring 2 too lengthy</td>\n",
       "    </tr>\n",
       "  </tbody>\n",
       "</table>\n",
       "</div>"
      ],
      "text/plain": [
       "                                              Review  \\\n",
       "0  I like this books very much!!! It is VERY INTE...   \n",
       "1  Do not like this book. so boring 2. Too length...   \n",
       "\n",
       "                                   clean_punctuation  \\\n",
       "0  I like this books very much It is VERY INTERES...   \n",
       "1     Do not like this book so boring 2 Too lengthy    \n",
       "\n",
       "                                         clean_lower  \n",
       "0  i like this books very much it is very interes...  \n",
       "1     do not like this book so boring 2 too lengthy   "
      ]
     },
     "execution_count": 26,
     "metadata": {},
     "output_type": "execute_result"
    }
   ],
   "source": [
    "#to standardize the cases in the documents into lower case\n",
    "data['clean_lower']= data['clean_punctuation'].str.lower()\n",
    "data \n"
   ]
  },
  {
   "cell_type": "code",
   "execution_count": 27,
   "id": "11719689",
   "metadata": {},
   "outputs": [],
   "source": [
    "#import regular expression library\n",
    "import re\n"
   ]
  },
  {
   "cell_type": "code",
   "execution_count": 28,
   "id": "342ce179",
   "metadata": {},
   "outputs": [],
   "source": [
    "def remove_numbers(text):\n",
    "    return re.sub(\"[\\d-]\",'',text)\n"
   ]
  },
  {
   "cell_type": "code",
   "execution_count": 29,
   "id": "70ebcaea",
   "metadata": {},
   "outputs": [
    {
     "data": {
      "text/html": [
       "<div>\n",
       "<style scoped>\n",
       "    .dataframe tbody tr th:only-of-type {\n",
       "        vertical-align: middle;\n",
       "    }\n",
       "\n",
       "    .dataframe tbody tr th {\n",
       "        vertical-align: top;\n",
       "    }\n",
       "\n",
       "    .dataframe thead th {\n",
       "        text-align: right;\n",
       "    }\n",
       "</style>\n",
       "<table border=\"1\" class=\"dataframe\">\n",
       "  <thead>\n",
       "    <tr style=\"text-align: right;\">\n",
       "      <th></th>\n",
       "      <th>Review</th>\n",
       "      <th>clean_punctuation</th>\n",
       "      <th>clean_lower</th>\n",
       "      <th>clean_number</th>\n",
       "    </tr>\n",
       "  </thead>\n",
       "  <tbody>\n",
       "    <tr>\n",
       "      <th>0</th>\n",
       "      <td>I like this books very much!!! It is VERY INTE...</td>\n",
       "      <td>I like this books very much It is VERY INTERES...</td>\n",
       "      <td>i like this books very much it is very interes...</td>\n",
       "      <td>i like this books very much it is very interes...</td>\n",
       "    </tr>\n",
       "    <tr>\n",
       "      <th>1</th>\n",
       "      <td>Do not like this book. so boring 2. Too length...</td>\n",
       "      <td>Do not like this book so boring 2 Too lengthy</td>\n",
       "      <td>do not like this book so boring 2 too lengthy</td>\n",
       "      <td>do not like this book so boring  too lengthy</td>\n",
       "    </tr>\n",
       "  </tbody>\n",
       "</table>\n",
       "</div>"
      ],
      "text/plain": [
       "                                              Review  \\\n",
       "0  I like this books very much!!! It is VERY INTE...   \n",
       "1  Do not like this book. so boring 2. Too length...   \n",
       "\n",
       "                                   clean_punctuation  \\\n",
       "0  I like this books very much It is VERY INTERES...   \n",
       "1     Do not like this book so boring 2 Too lengthy    \n",
       "\n",
       "                                         clean_lower  \\\n",
       "0  i like this books very much it is very interes...   \n",
       "1     do not like this book so boring 2 too lengthy    \n",
       "\n",
       "                                        clean_number  \n",
       "0  i like this books very much it is very interes...  \n",
       "1      do not like this book so boring  too lengthy   "
      ]
     },
     "execution_count": 29,
     "metadata": {},
     "output_type": "execute_result"
    }
   ],
   "source": [
    "data['clean_number'] = data['clean_lower'].apply(remove_numbers)\n",
    "data\n"
   ]
  },
  {
   "cell_type": "code",
   "execution_count": 30,
   "id": "6644cede",
   "metadata": {},
   "outputs": [
    {
     "name": "stderr",
     "output_type": "stream",
     "text": [
      "[nltk_data] Downloading package punkt to\n",
      "[nltk_data]     C:\\Users\\Z4Teen\\AppData\\Roaming\\nltk_data...\n",
      "[nltk_data]   Unzipping tokenizers\\punkt.zip.\n"
     ]
    },
    {
     "data": {
      "text/plain": [
       "True"
      ]
     },
     "execution_count": 30,
     "metadata": {},
     "output_type": "execute_result"
    }
   ],
   "source": [
    "#import Natural Language Processing (NLP) library called \n",
    "#Natural Language Toolkit (NLTK)\n",
    "import nltk\n",
    "nltk.download('punkt')\n"
   ]
  },
  {
   "cell_type": "code",
   "execution_count": 31,
   "id": "069386d7",
   "metadata": {},
   "outputs": [],
   "source": [
    "# import the library for word tokenization\n",
    "from nltk.tokenize import word_tokenize\n"
   ]
  },
  {
   "cell_type": "code",
   "execution_count": 32,
   "id": "3ed5d478",
   "metadata": {},
   "outputs": [
    {
     "data": {
      "text/html": [
       "<div>\n",
       "<style scoped>\n",
       "    .dataframe tbody tr th:only-of-type {\n",
       "        vertical-align: middle;\n",
       "    }\n",
       "\n",
       "    .dataframe tbody tr th {\n",
       "        vertical-align: top;\n",
       "    }\n",
       "\n",
       "    .dataframe thead th {\n",
       "        text-align: right;\n",
       "    }\n",
       "</style>\n",
       "<table border=\"1\" class=\"dataframe\">\n",
       "  <thead>\n",
       "    <tr style=\"text-align: right;\">\n",
       "      <th></th>\n",
       "      <th>Review</th>\n",
       "      <th>clean_punctuation</th>\n",
       "      <th>clean_lower</th>\n",
       "      <th>clean_number</th>\n",
       "      <th>token_data</th>\n",
       "    </tr>\n",
       "  </thead>\n",
       "  <tbody>\n",
       "    <tr>\n",
       "      <th>0</th>\n",
       "      <td>I like this books very much!!! It is VERY INTE...</td>\n",
       "      <td>I like this books very much It is VERY INTERES...</td>\n",
       "      <td>i like this books very much it is very interes...</td>\n",
       "      <td>i like this books very much it is very interes...</td>\n",
       "      <td>[i, like, this, books, very, much, it, is, ver...</td>\n",
       "    </tr>\n",
       "    <tr>\n",
       "      <th>1</th>\n",
       "      <td>Do not like this book. so boring 2. Too length...</td>\n",
       "      <td>Do not like this book so boring 2 Too lengthy</td>\n",
       "      <td>do not like this book so boring 2 too lengthy</td>\n",
       "      <td>do not like this book so boring  too lengthy</td>\n",
       "      <td>[do, not, like, this, book, so, boring, too, l...</td>\n",
       "    </tr>\n",
       "  </tbody>\n",
       "</table>\n",
       "</div>"
      ],
      "text/plain": [
       "                                              Review  \\\n",
       "0  I like this books very much!!! It is VERY INTE...   \n",
       "1  Do not like this book. so boring 2. Too length...   \n",
       "\n",
       "                                   clean_punctuation  \\\n",
       "0  I like this books very much It is VERY INTERES...   \n",
       "1     Do not like this book so boring 2 Too lengthy    \n",
       "\n",
       "                                         clean_lower  \\\n",
       "0  i like this books very much it is very interes...   \n",
       "1     do not like this book so boring 2 too lengthy    \n",
       "\n",
       "                                        clean_number  \\\n",
       "0  i like this books very much it is very interes...   \n",
       "1      do not like this book so boring  too lengthy    \n",
       "\n",
       "                                          token_data  \n",
       "0  [i, like, this, books, very, much, it, is, ver...  \n",
       "1  [do, not, like, this, book, so, boring, too, l...  "
      ]
     },
     "execution_count": 32,
     "metadata": {},
     "output_type": "execute_result"
    }
   ],
   "source": [
    "#the word tokens in the document\n",
    "data['token_data']= data['clean_number'].apply(word_tokenize)\n",
    "data\n"
   ]
  },
  {
   "cell_type": "code",
   "execution_count": 33,
   "id": "b5b21370",
   "metadata": {},
   "outputs": [
    {
     "name": "stderr",
     "output_type": "stream",
     "text": [
      "[nltk_data] Downloading package stopwords to\n",
      "[nltk_data]     C:\\Users\\Z4Teen\\AppData\\Roaming\\nltk_data...\n",
      "[nltk_data]   Unzipping corpora\\stopwords.zip.\n"
     ]
    },
    {
     "data": {
      "text/plain": [
       "True"
      ]
     },
     "execution_count": 33,
     "metadata": {},
     "output_type": "execute_result"
    }
   ],
   "source": [
    "#download stopwords\n",
    "nltk.download('stopwords')\n"
   ]
  },
  {
   "cell_type": "code",
   "execution_count": 34,
   "id": "e4a11c10",
   "metadata": {},
   "outputs": [],
   "source": [
    "#Get the list of English stop words present in the library \n",
    "stopwords = nltk.corpus.stopwords.words('english')\n"
   ]
  },
  {
   "cell_type": "code",
   "execution_count": 35,
   "id": "795d8cee",
   "metadata": {},
   "outputs": [
    {
     "name": "stdout",
     "output_type": "stream",
     "text": [
      "['i', 'me', 'my', 'myself', 'we', 'our', 'ours', 'ourselves', 'you', \"you're\", \"you've\", \"you'll\", \"you'd\", 'your', 'yours', 'yourself', 'yourselves', 'he', 'him', 'his', 'himself', 'she', \"she's\", 'her', 'hers', 'herself', 'it', \"it's\", 'its', 'itself', 'they', 'them', 'their', 'theirs', 'themselves', 'what', 'which', 'who', 'whom', 'this', 'that', \"that'll\", 'these', 'those', 'am', 'is', 'are', 'was', 'were', 'be', 'been', 'being', 'have', 'has', 'had', 'having', 'do', 'does', 'did', 'doing', 'a', 'an', 'the', 'and', 'but', 'if', 'or', 'because', 'as', 'until', 'while', 'of', 'at', 'by', 'for', 'with', 'about', 'against', 'between', 'into', 'through', 'during', 'before', 'after', 'above', 'below', 'to', 'from', 'up', 'down', 'in', 'out', 'on', 'off', 'over', 'under', 'again', 'further', 'then', 'once', 'here', 'there', 'when', 'where', 'why', 'how', 'all', 'any', 'both', 'each', 'few', 'more', 'most', 'other', 'some', 'such', 'no', 'nor', 'not', 'only', 'own', 'same', 'so', 'than', 'too', 'very', 's', 't', 'can', 'will', 'just', 'don', \"don't\", 'should', \"should've\", 'now', 'd', 'll', 'm', 'o', 're', 've', 'y', 'ain', 'aren', \"aren't\", 'couldn', \"couldn't\", 'didn', \"didn't\", 'doesn', \"doesn't\", 'hadn', \"hadn't\", 'hasn', \"hasn't\", 'haven', \"haven't\", 'isn', \"isn't\", 'ma', 'mightn', \"mightn't\", 'mustn', \"mustn't\", 'needn', \"needn't\", 'shan', \"shan't\", 'shouldn', \"shouldn't\", 'wasn', \"wasn't\", 'weren', \"weren't\", 'won', \"won't\", 'wouldn', \"wouldn't\"]\n"
     ]
    }
   ],
   "source": [
    "print(stopwords)"
   ]
  },
  {
   "cell_type": "code",
   "execution_count": 36,
   "id": "854692d1",
   "metadata": {},
   "outputs": [],
   "source": [
    "def remove_stopwords(text):\n",
    "    output = []\n",
    "    for i in text:\n",
    "        if i not in stopwords:\n",
    "            output.append(i)\n",
    "    return output\n"
   ]
  },
  {
   "cell_type": "code",
   "execution_count": 37,
   "id": "1a457c06",
   "metadata": {},
   "outputs": [
    {
     "data": {
      "text/html": [
       "<div>\n",
       "<style scoped>\n",
       "    .dataframe tbody tr th:only-of-type {\n",
       "        vertical-align: middle;\n",
       "    }\n",
       "\n",
       "    .dataframe tbody tr th {\n",
       "        vertical-align: top;\n",
       "    }\n",
       "\n",
       "    .dataframe thead th {\n",
       "        text-align: right;\n",
       "    }\n",
       "</style>\n",
       "<table border=\"1\" class=\"dataframe\">\n",
       "  <thead>\n",
       "    <tr style=\"text-align: right;\">\n",
       "      <th></th>\n",
       "      <th>Review</th>\n",
       "      <th>clean_punctuation</th>\n",
       "      <th>clean_lower</th>\n",
       "      <th>clean_number</th>\n",
       "      <th>token_data</th>\n",
       "      <th>clean_xstopwords</th>\n",
       "    </tr>\n",
       "  </thead>\n",
       "  <tbody>\n",
       "    <tr>\n",
       "      <th>0</th>\n",
       "      <td>I like this books very much!!! It is VERY INTE...</td>\n",
       "      <td>I like this books very much It is VERY INTERES...</td>\n",
       "      <td>i like this books very much it is very interes...</td>\n",
       "      <td>i like this books very much it is very interes...</td>\n",
       "      <td>[i, like, this, books, very, much, it, is, ver...</td>\n",
       "      <td>[like, books, much, interesting]</td>\n",
       "    </tr>\n",
       "    <tr>\n",
       "      <th>1</th>\n",
       "      <td>Do not like this book. so boring 2. Too length...</td>\n",
       "      <td>Do not like this book so boring 2 Too lengthy</td>\n",
       "      <td>do not like this book so boring 2 too lengthy</td>\n",
       "      <td>do not like this book so boring  too lengthy</td>\n",
       "      <td>[do, not, like, this, book, so, boring, too, l...</td>\n",
       "      <td>[like, book, boring, lengthy]</td>\n",
       "    </tr>\n",
       "  </tbody>\n",
       "</table>\n",
       "</div>"
      ],
      "text/plain": [
       "                                              Review  \\\n",
       "0  I like this books very much!!! It is VERY INTE...   \n",
       "1  Do not like this book. so boring 2. Too length...   \n",
       "\n",
       "                                   clean_punctuation  \\\n",
       "0  I like this books very much It is VERY INTERES...   \n",
       "1     Do not like this book so boring 2 Too lengthy    \n",
       "\n",
       "                                         clean_lower  \\\n",
       "0  i like this books very much it is very interes...   \n",
       "1     do not like this book so boring 2 too lengthy    \n",
       "\n",
       "                                        clean_number  \\\n",
       "0  i like this books very much it is very interes...   \n",
       "1      do not like this book so boring  too lengthy    \n",
       "\n",
       "                                          token_data  \\\n",
       "0  [i, like, this, books, very, much, it, is, ver...   \n",
       "1  [do, not, like, this, book, so, boring, too, l...   \n",
       "\n",
       "                   clean_xstopwords  \n",
       "0  [like, books, much, interesting]  \n",
       "1     [like, book, boring, lengthy]  "
      ]
     },
     "execution_count": 37,
     "metadata": {},
     "output_type": "execute_result"
    }
   ],
   "source": [
    "#Applying the remove_stopwords function to the 'token_data' column and storing the result in a new column 'clean_xstopwords'\n",
    "data['clean_xstopwords'] = data['token_data'].apply(remove_stopwords)\n",
    "data\n"
   ]
  },
  {
   "cell_type": "code",
   "execution_count": 38,
   "id": "deb1a65f",
   "metadata": {},
   "outputs": [],
   "source": [
    "#importing the Stemming function from nltk library\n",
    "from nltk.stem.porter import PorterStemmer\n"
   ]
  },
  {
   "cell_type": "code",
   "execution_count": 39,
   "id": "6bfe83fd",
   "metadata": {},
   "outputs": [],
   "source": [
    "#defining the object for stemming\n",
    "porter_stemmer = PorterStemmer()\n"
   ]
  },
  {
   "cell_type": "code",
   "execution_count": 40,
   "id": "5f5aa349",
   "metadata": {},
   "outputs": [],
   "source": [
    "#defining a function for stemming\n",
    "def stemming(text):\n",
    "    stem_text = []\n",
    "    for word in text:\n",
    "        stemmed_word = porter_stemmer.stem(word)\n",
    "        stem_text.append(stemmed_word)\n",
    "    return stem_text\n"
   ]
  },
  {
   "cell_type": "code",
   "execution_count": 41,
   "id": "1943c2f6",
   "metadata": {},
   "outputs": [
    {
     "data": {
      "text/html": [
       "<div>\n",
       "<style scoped>\n",
       "    .dataframe tbody tr th:only-of-type {\n",
       "        vertical-align: middle;\n",
       "    }\n",
       "\n",
       "    .dataframe tbody tr th {\n",
       "        vertical-align: top;\n",
       "    }\n",
       "\n",
       "    .dataframe thead th {\n",
       "        text-align: right;\n",
       "    }\n",
       "</style>\n",
       "<table border=\"1\" class=\"dataframe\">\n",
       "  <thead>\n",
       "    <tr style=\"text-align: right;\">\n",
       "      <th></th>\n",
       "      <th>Review</th>\n",
       "      <th>clean_punctuation</th>\n",
       "      <th>clean_lower</th>\n",
       "      <th>clean_number</th>\n",
       "      <th>token_data</th>\n",
       "      <th>clean_xstopwords</th>\n",
       "      <th>clean_stemmed</th>\n",
       "    </tr>\n",
       "  </thead>\n",
       "  <tbody>\n",
       "    <tr>\n",
       "      <th>0</th>\n",
       "      <td>I like this books very much!!! It is VERY INTE...</td>\n",
       "      <td>I like this books very much It is VERY INTERES...</td>\n",
       "      <td>i like this books very much it is very interes...</td>\n",
       "      <td>i like this books very much it is very interes...</td>\n",
       "      <td>[i, like, this, books, very, much, it, is, ver...</td>\n",
       "      <td>[like, books, much, interesting]</td>\n",
       "      <td>[like, book, much, interest]</td>\n",
       "    </tr>\n",
       "    <tr>\n",
       "      <th>1</th>\n",
       "      <td>Do not like this book. so boring 2. Too length...</td>\n",
       "      <td>Do not like this book so boring 2 Too lengthy</td>\n",
       "      <td>do not like this book so boring 2 too lengthy</td>\n",
       "      <td>do not like this book so boring  too lengthy</td>\n",
       "      <td>[do, not, like, this, book, so, boring, too, l...</td>\n",
       "      <td>[like, book, boring, lengthy]</td>\n",
       "      <td>[like, book, bore, lengthi]</td>\n",
       "    </tr>\n",
       "  </tbody>\n",
       "</table>\n",
       "</div>"
      ],
      "text/plain": [
       "                                              Review  \\\n",
       "0  I like this books very much!!! It is VERY INTE...   \n",
       "1  Do not like this book. so boring 2. Too length...   \n",
       "\n",
       "                                   clean_punctuation  \\\n",
       "0  I like this books very much It is VERY INTERES...   \n",
       "1     Do not like this book so boring 2 Too lengthy    \n",
       "\n",
       "                                         clean_lower  \\\n",
       "0  i like this books very much it is very interes...   \n",
       "1     do not like this book so boring 2 too lengthy    \n",
       "\n",
       "                                        clean_number  \\\n",
       "0  i like this books very much it is very interes...   \n",
       "1      do not like this book so boring  too lengthy    \n",
       "\n",
       "                                          token_data  \\\n",
       "0  [i, like, this, books, very, much, it, is, ver...   \n",
       "1  [do, not, like, this, book, so, boring, too, l...   \n",
       "\n",
       "                   clean_xstopwords                 clean_stemmed  \n",
       "0  [like, books, much, interesting]  [like, book, much, interest]  \n",
       "1     [like, book, boring, lengthy]   [like, book, bore, lengthi]  "
      ]
     },
     "execution_count": 41,
     "metadata": {},
     "output_type": "execute_result"
    }
   ],
   "source": [
    "#applying the stemming function to the 'clean_xstopwords' column and storing the result in a new column 'clean_stemmed' \n",
    "data['clean_stemmed'] = data['clean_xstopwords'].apply(stemming)\n",
    "data\n"
   ]
  },
  {
   "cell_type": "code",
   "execution_count": 42,
   "id": "e3b7896f",
   "metadata": {},
   "outputs": [
    {
     "name": "stderr",
     "output_type": "stream",
     "text": [
      "[nltk_data] Downloading package wordnet to\n",
      "[nltk_data]     C:\\Users\\Z4Teen\\AppData\\Roaming\\nltk_data...\n"
     ]
    }
   ],
   "source": [
    "nltk.download('wordnet')\n",
    "\n",
    "#importing the Lemmatizer function from nltk library\n",
    "from nltk.stem import WordNetLemmatizer\n",
    "\n",
    "#defining the object for Lemmatization\n",
    "wordnet_lemmatizer = WordNetLemmatizer()\n"
   ]
  },
  {
   "cell_type": "code",
   "execution_count": 43,
   "id": "0f21cdf0",
   "metadata": {},
   "outputs": [],
   "source": [
    "#defining the function for lemmatization\n",
    "def lemmatizer(text):\n",
    "    lemm_text = []\n",
    "    for word in text:\n",
    "        lemmatized_word = wordnet_lemmatizer.lemmatize(word)\n",
    "        lemm_text.append(lemmatized_word)\n",
    "    return lemm_text\n",
    "\n"
   ]
  },
  {
   "cell_type": "code",
   "execution_count": 44,
   "id": "dff27832",
   "metadata": {},
   "outputs": [],
   "source": [
    "# #applying the lemmatizer function to the 'clean_xstopwords' column and storing the result in a new column 'clean_lemmatized1'\n",
    "data['clean_lemmatized1']=data['clean_xstopwords'].apply(lemmatizer)\n"
   ]
  },
  {
   "cell_type": "code",
   "execution_count": 45,
   "id": "089832e1",
   "metadata": {},
   "outputs": [
    {
     "data": {
      "text/html": [
       "<div>\n",
       "<style scoped>\n",
       "    .dataframe tbody tr th:only-of-type {\n",
       "        vertical-align: middle;\n",
       "    }\n",
       "\n",
       "    .dataframe tbody tr th {\n",
       "        vertical-align: top;\n",
       "    }\n",
       "\n",
       "    .dataframe thead th {\n",
       "        text-align: right;\n",
       "    }\n",
       "</style>\n",
       "<table border=\"1\" class=\"dataframe\">\n",
       "  <thead>\n",
       "    <tr style=\"text-align: right;\">\n",
       "      <th></th>\n",
       "      <th>Review</th>\n",
       "      <th>clean_punctuation</th>\n",
       "      <th>clean_lower</th>\n",
       "      <th>clean_number</th>\n",
       "      <th>token_data</th>\n",
       "      <th>clean_xstopwords</th>\n",
       "      <th>clean_stemmed</th>\n",
       "      <th>clean_lemmatized1</th>\n",
       "      <th>clean_lemmatized2</th>\n",
       "    </tr>\n",
       "  </thead>\n",
       "  <tbody>\n",
       "    <tr>\n",
       "      <th>0</th>\n",
       "      <td>I like this books very much!!! It is VERY INTE...</td>\n",
       "      <td>I like this books very much It is VERY INTERES...</td>\n",
       "      <td>i like this books very much it is very interes...</td>\n",
       "      <td>i like this books very much it is very interes...</td>\n",
       "      <td>[i, like, this, books, very, much, it, is, ver...</td>\n",
       "      <td>[like, books, much, interesting]</td>\n",
       "      <td>[like, book, much, interest]</td>\n",
       "      <td>[like, book, much, interesting]</td>\n",
       "      <td>[like, book, much, interest]</td>\n",
       "    </tr>\n",
       "    <tr>\n",
       "      <th>1</th>\n",
       "      <td>Do not like this book. so boring 2. Too length...</td>\n",
       "      <td>Do not like this book so boring 2 Too lengthy</td>\n",
       "      <td>do not like this book so boring 2 too lengthy</td>\n",
       "      <td>do not like this book so boring  too lengthy</td>\n",
       "      <td>[do, not, like, this, book, so, boring, too, l...</td>\n",
       "      <td>[like, book, boring, lengthy]</td>\n",
       "      <td>[like, book, bore, lengthi]</td>\n",
       "      <td>[like, book, boring, lengthy]</td>\n",
       "      <td>[like, book, bore, lengthi]</td>\n",
       "    </tr>\n",
       "  </tbody>\n",
       "</table>\n",
       "</div>"
      ],
      "text/plain": [
       "                                              Review  \\\n",
       "0  I like this books very much!!! It is VERY INTE...   \n",
       "1  Do not like this book. so boring 2. Too length...   \n",
       "\n",
       "                                   clean_punctuation  \\\n",
       "0  I like this books very much It is VERY INTERES...   \n",
       "1     Do not like this book so boring 2 Too lengthy    \n",
       "\n",
       "                                         clean_lower  \\\n",
       "0  i like this books very much it is very interes...   \n",
       "1     do not like this book so boring 2 too lengthy    \n",
       "\n",
       "                                        clean_number  \\\n",
       "0  i like this books very much it is very interes...   \n",
       "1      do not like this book so boring  too lengthy    \n",
       "\n",
       "                                          token_data  \\\n",
       "0  [i, like, this, books, very, much, it, is, ver...   \n",
       "1  [do, not, like, this, book, so, boring, too, l...   \n",
       "\n",
       "                   clean_xstopwords                 clean_stemmed  \\\n",
       "0  [like, books, much, interesting]  [like, book, much, interest]   \n",
       "1     [like, book, boring, lengthy]   [like, book, bore, lengthi]   \n",
       "\n",
       "                 clean_lemmatized1             clean_lemmatized2  \n",
       "0  [like, book, much, interesting]  [like, book, much, interest]  \n",
       "1    [like, book, boring, lengthy]   [like, book, bore, lengthi]  "
      ]
     },
     "execution_count": 45,
     "metadata": {},
     "output_type": "execute_result"
    }
   ],
   "source": [
    "# #applying the lemmatizer function to the 'clean_stemmed' column and storing the result in a new column 'clean_lemmatized2'\n",
    "data['clean_lemmatized2']=data['clean_stemmed'].apply(lemmatizer)\n",
    "data\n"
   ]
  },
  {
   "cell_type": "code",
   "execution_count": null,
   "id": "1b0e80ee",
   "metadata": {},
   "outputs": [],
   "source": []
  }
 ],
 "metadata": {
  "kernelspec": {
   "display_name": "Python 3 (ipykernel)",
   "language": "python",
   "name": "python3"
  },
  "language_info": {
   "codemirror_mode": {
    "name": "ipython",
    "version": 3
   },
   "file_extension": ".py",
   "mimetype": "text/x-python",
   "name": "python",
   "nbconvert_exporter": "python",
   "pygments_lexer": "ipython3",
   "version": "3.11.5"
  }
 },
 "nbformat": 4,
 "nbformat_minor": 5
}
